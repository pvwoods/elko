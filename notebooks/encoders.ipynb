{
 "cells": [
  {
   "cell_type": "code",
   "execution_count": 1,
   "metadata": {},
   "outputs": [],
   "source": [
    "import torch\n",
    "import torch.nn as nn\n",
    "import matplotlib.pyplot as plt\n",
    "import torchvision\n",
    "import torchvision.transforms as transforms\n",
    "from tqdm.auto import tqdm\n",
    "import numpy as np\n",
    "\n",
    "from typing import Union, List, Tuple"
   ]
  },
  {
   "cell_type": "code",
   "execution_count": 2,
   "metadata": {},
   "outputs": [
    {
     "name": "stdout",
     "output_type": "stream",
     "text": [
      "Files already downloaded and verified\n"
     ]
    }
   ],
   "source": [
    "transform = transforms.Compose(\n",
    "        [transforms.ToTensor(), ])\n",
    "trainset = torchvision.datasets.CIFAR10(root='../data', train=True,\n",
    "                                            download=True, transform=transform)\n",
    "trainloader = torch.utils.data.DataLoader(trainset, batch_size=16,\n",
    "                                            shuffle=True, num_workers=2)"
   ]
  },
  {
   "cell_type": "code",
   "execution_count": 93,
   "metadata": {},
   "outputs": [
    {
     "data": {
      "text/plain": [
       "AutoEncoder(\n",
       "  (encoder): Sequential(\n",
       "    (0): Conv2d(3, 10, kernel_size=(4, 4), stride=(2, 2), padding=(1, 1))\n",
       "    (1): BatchNorm2d(10, eps=1e-05, momentum=0.1, affine=True, track_running_stats=True)\n",
       "    (2): SiLU()\n",
       "    (3): Conv2d(10, 20, kernel_size=(4, 4), stride=(2, 2), padding=(1, 1))\n",
       "    (4): BatchNorm2d(20, eps=1e-05, momentum=0.1, affine=True, track_running_stats=True)\n",
       "    (5): SiLU()\n",
       "    (6): Conv2d(20, 40, kernel_size=(4, 4), stride=(2, 2), padding=(1, 1))\n",
       "    (7): BatchNorm2d(40, eps=1e-05, momentum=0.1, affine=True, track_running_stats=True)\n",
       "    (8): SiLU()\n",
       "    (9): Conv2d(40, 80, kernel_size=(4, 4), stride=(2, 2), padding=(1, 1))\n",
       "    (10): BatchNorm2d(80, eps=1e-05, momentum=0.1, affine=True, track_running_stats=True)\n",
       "  )\n",
       "  (decoder): Sequential(\n",
       "    (0): ConvTranspose2d(80, 40, kernel_size=(4, 4), stride=(2, 2), padding=(1, 1))\n",
       "    (1): BatchNorm2d(40, eps=1e-05, momentum=0.1, affine=True, track_running_stats=True)\n",
       "    (2): SiLU()\n",
       "    (3): ConvTranspose2d(40, 20, kernel_size=(4, 4), stride=(2, 2), padding=(1, 1))\n",
       "    (4): BatchNorm2d(20, eps=1e-05, momentum=0.1, affine=True, track_running_stats=True)\n",
       "    (5): SiLU()\n",
       "    (6): ConvTranspose2d(20, 10, kernel_size=(4, 4), stride=(2, 2), padding=(1, 1))\n",
       "    (7): BatchNorm2d(10, eps=1e-05, momentum=0.1, affine=True, track_running_stats=True)\n",
       "    (8): SiLU()\n",
       "    (9): ConvTranspose2d(10, 3, kernel_size=(4, 4), stride=(2, 2), padding=(1, 1))\n",
       "    (10): BatchNorm2d(3, eps=1e-05, momentum=0.1, affine=True, track_running_stats=True)\n",
       "  )\n",
       "  (out_activation): Sigmoid()\n",
       ")"
      ]
     },
     "execution_count": 93,
     "metadata": {},
     "output_type": "execute_result"
    }
   ],
   "source": [
    "class AutoEncoder(nn.Module):\n",
    "    \n",
    "    def __init__(self, \n",
    "                 channels:List[int], \n",
    "                 kernel:int=4, \n",
    "                 stride:int=2, \n",
    "                 padding:int=1, \n",
    "                 conv_activation=None, \n",
    "                 out_activation=None\n",
    "                ):\n",
    "        \n",
    "        super(AutoEncoder, self).__init__()\n",
    "        \n",
    "        self.kernel = kernel\n",
    "        self.stride = stride\n",
    "        self.padding = padding\n",
    "        self.conv_activation = nn.SiLU if conv_activation is None else conv_activation\n",
    "        \n",
    "        self.encoder = self.build_coder(channels, nn.Conv2d)\n",
    "        self.decoder = self.build_coder(channels[::-1], nn.ConvTranspose2d)\n",
    "        self.out_activation = out_activation()\n",
    "        \n",
    "    def build_coder(self, channels, conv_layer):\n",
    "        channel_pairs = zip(channels[:-1], channels[1:])\n",
    "        coder_steps = [(\n",
    "            conv_layer(i, o, self.kernel, self.stride, self.padding),\n",
    "            nn.BatchNorm2d(o),\n",
    "            self.conv_activation())\n",
    "            for i, o in channel_pairs]\n",
    "        coder_steps = [step for substep in coder_steps for step in substep][:-1] # flatten and remove last activation\n",
    "        return nn.Sequential(*coder_steps)\n",
    "        \n",
    "    \n",
    "    def forward(self, x):\n",
    "        h = self.encoder(x)\n",
    "        out = self.decoder(h)\n",
    "        if self.out_activation:\n",
    "            out = self.out_activation(out)\n",
    "        return out, h\n",
    "    \n",
    "m = AutoEncoder([3, 10, 20, 40, 80], out_activation=nn.Sigmoid)\n",
    "x = torch.randn(1,3,256,256)\n",
    "m"
   ]
  },
  {
   "cell_type": "code",
   "execution_count": 106,
   "metadata": {},
   "outputs": [
    {
     "data": {
      "application/vnd.jupyter.widget-view+json": {
       "model_id": "7e6265f3f417417586e6ceaa1fca86cb",
       "version_major": 2,
       "version_minor": 0
      },
      "text/plain": [
       "  0%|          | 0/3125 [00:00<?, ?it/s]"
      ]
     },
     "metadata": {},
     "output_type": "display_data"
    }
   ],
   "source": [
    "model = AutoEncoder([3, 6, 8], out_activation=nn.Sigmoid)\n",
    "\n",
    "criterion = nn.L1Loss()\n",
    "optimizer = torch.optim.Adam(model.parameters())\n",
    "epochs = 1\n",
    "pbar = tqdm(total=epochs * len(trainloader))\n",
    "losses = []\n",
    "\n",
    "for e in range(epochs):\n",
    "    for i, (inputs, _) in enumerate(trainloader, 0):\n",
    "        pbar.update(1)\n",
    "        out, encoded = model(inputs)\n",
    "        \n",
    "        loss = criterion(out, inputs)\n",
    "        optimizer.zero_grad()\n",
    "        loss.backward()\n",
    "        optimizer.step()\n",
    "        \n",
    "        losses.append(loss.item())\n",
    "        pbar.set_description(desc=f\"Epoch {e+1}/{epochs} | average loss: {(sum(losses[-100:])/min(100,len(losses))):.2f}\")\n"
   ]
  },
  {
   "cell_type": "code",
   "execution_count": 40,
   "metadata": {},
   "outputs": [
    {
     "data": {
      "text/plain": [
       "[<matplotlib.lines.Line2D at 0x7fb40aa993c0>]"
      ]
     },
     "execution_count": 40,
     "metadata": {},
     "output_type": "execute_result"
    },
    {
     "data": {
      "image/png": "[encoded data removed]",
      "text/plain": [
       "<Figure size 640x480 with 1 Axes>"
      ]
     },
     "metadata": {},
     "output_type": "display_data"
    }
   ],
   "source": [
    "plt.plot(torch.tensor(losses).view(-1, 25).mean(1))"
   ]
  },
  {
   "cell_type": "code",
   "execution_count": 36,
   "metadata": {},
   "outputs": [
    {
     "data": {
      "text/plain": [
       "torch.Size([3, 32, 32])"
      ]
     },
     "execution_count": 36,
     "metadata": {},
     "output_type": "execute_result"
    }
   ],
   "source": [
    "batch = next(iter(trainloader))\n",
    "image = batch[0][0]\n",
    "image.shape"
   ]
  },
  {
   "cell_type": "code",
   "execution_count": 85,
   "metadata": {},
   "outputs": [
    {
     "data": {
      "image/png": "[encoded data removed]",
      "text/plain": [
       "<Figure size 640x480 with 1 Axes>"
      ]
     },
     "metadata": {},
     "output_type": "display_data"
    }
   ],
   "source": [
    "def imshow(img):\n",
    "  #img = img / 2 + 0.5   # unnormalize\n",
    "  npimg = img.numpy()   # convert from tensor\n",
    "  plt.imshow(np.transpose(npimg, (1, 2, 0))) \n",
    "  plt.show()\n",
    "    \n",
    "imshow(image)"
   ]
  },
  {
   "cell_type": "code",
   "execution_count": 107,
   "metadata": {},
   "outputs": [
    {
     "data": {
      "image/png": "[encoded data removed]",
      "text/plain": [
       "<Figure size 640x480 with 1 Axes>"
      ]
     },
     "metadata": {},
     "output_type": "display_data"
    }
   ],
   "source": [
    "out, h = model(image[None,...])\n",
    "imshow(out[0].squeeze().detach())"
   ]
  },
  {
   "cell_type": "code",
   "execution_count": 108,
   "metadata": {},
   "outputs": [
    {
     "data": {
      "text/plain": [
       "(512, 3072, 0.8333333333333334)"
      ]
     },
     "execution_count": 108,
     "metadata": {},
     "output_type": "execute_result"
    }
   ],
   "source": [
    "hidden_size = h.shape[1]*h.shape[2]*h.shape[3]\n",
    "full_size = image.shape[0]*image.shape[1]*image.shape[2]\n",
    "hidden_size, full_size, 1 - hidden_size / full_size"
   ]
  },
  {
   "cell_type": "code",
   "execution_count": 194,
   "metadata": {},
   "outputs": [
    {
     "data": {
      "text/plain": [
       "(torch.Size([1, 3, 100, 100]), tensor(6.6003, grad_fn=<MeanBackward0>))"
      ]
     },
     "execution_count": 194,
     "metadata": {},
     "output_type": "execute_result"
    }
   ],
   "source": [
    "class VAE(nn.Module):\n",
    "    \n",
    "    def __init__(self,\n",
    "                 input_dims:int,\n",
    "                 hidden_dims:int,\n",
    "                 bottleneck_dims:int,\n",
    "                 convolutions:List[Tuple[int,int,int]]=None, \n",
    "                 conv_activation=None, \n",
    "                 out_activation=None\n",
    "                ):\n",
    "        \n",
    "        '''\n",
    "        Variational Auto Encoder\n",
    "        \n",
    "        Attributes\n",
    "        ----------\n",
    "        \n",
    "        input_dims : int \n",
    "            number of input channel dimensions\n",
    "        hidden_dims : int\n",
    "            number of channel dimensions for hidden layers\n",
    "        bottleneck_dims : int\n",
    "            channel dimensions at bottelneck\n",
    "        convolutions : List[Tuple[int,int,int]] (optional)\n",
    "            list of tuples for convolution layers, of the form (kernel size, stride, padding)\n",
    "        conv_activation (optional)\n",
    "            class of the activation to be used for actvations between convolutional layers.  Defaults to SiLU\n",
    "        out_activation (optional)\n",
    "            class of the activation to be used after final step of the deocder.  If not set, no activation will be used.\n",
    "        '''\n",
    "        \n",
    "        super(VAE, self).__init__()\n",
    "\n",
    "        if convolutions is None:\n",
    "            convolutions = [\n",
    "                (4, 2, 1),\n",
    "                (4, 2, 1),\n",
    "                (5, 1, 0),\n",
    "                (3, 1, 0)\n",
    "            ]\n",
    "            \n",
    "        if conv_activation is None:\n",
    "            conv_activation = nn.SiLU\n",
    "        \n",
    "        # build encoder\n",
    "        \n",
    "        encoder_steps = []\n",
    "        for i, (k, s, p) in enumerate(convolutions):\n",
    "            in_dim = input_dims if i == 0 else hidden_dims\n",
    "            out_dim = (bottleneck_dims * 2) if i == len(convolutions) - 1 else hidden_dims\n",
    "            encoder_steps.append(nn.Conv2d(in_dim, out_dim, k, s, p))\n",
    "            encoder_steps.append(nn.BatchNorm2d(out_dim))\n",
    "            # no activation on last layer\n",
    "            if i != len(convolutions) - 1:\n",
    "                encoder_steps.append(conv_activation())\n",
    "        \n",
    "        self.encoder = nn.Sequential(*encoder_steps)\n",
    "        \n",
    "        # build decoder\n",
    "        \n",
    "        decoder_steps = []\n",
    "        for i, (k, s, p) in enumerate(convolutions[::-1]):\n",
    "            in_dim = (bottleneck_dims * 2) if i == 0 else hidden_dims\n",
    "            out_dim = input_dims if i == len(convolutions) - 1 else hidden_dims\n",
    "            decoder_steps.append(nn.ConvTranspose2d(in_dim, out_dim, k, s, p))\n",
    "            decoder_steps.append(nn.BatchNorm2d(out_dim))\n",
    "            # no activation on last layer\n",
    "            if i != len(convolutions) - 1:\n",
    "                decoder_steps.append(conv_activation())\n",
    "        \n",
    "        self.decoder = nn.Sequential(*decoder_steps)\n",
    "        \n",
    "        if out_activation:\n",
    "            self.out_activation = out_activation()\n",
    "            \n",
    "    def forward(self, x):\n",
    "        h = self.encoder(x)\n",
    "        mu, logvar = h.chunk(2, dim=1)\n",
    "        \n",
    "        h_dist = torch.distributions.Normal(mu, logvar.mul(.5).exp())\n",
    "        reference_dist = torch.distributions.Normal(torch.zeros_like(mu), torch.ones_like(logvar))\n",
    "        kl_loss = torch.distributions.kl_divergence(h_dist, reference_dist).sum(dim=1).mean()\n",
    "        \n",
    "        out = self.decoder(h)\n",
    "        if self.out_activation:\n",
    "            out = self.out_activation(out)\n",
    "        \n",
    "        return out, kl_loss\n",
    "            \n",
    "            \n",
    "model = VAE(3, 6, 8, out_activation=nn.Tanh)\n",
    "x = torch.randn(1, 3, 100, 100)\n",
    "out, kl_loss = model(x)\n",
    "out.shape, kl_loss"
   ]
  },
  {
   "cell_type": "code",
   "execution_count": 178,
   "metadata": {},
   "outputs": [
    {
     "name": "stdout",
     "output_type": "stream",
     "text": [
      "Files already downloaded and verified\n"
     ]
    }
   ],
   "source": [
    "preproc_transform = transforms.Compose([\n",
    "    transforms.ToTensor(),\n",
    "    transforms.Normalize((0.5, 0.5, 0.5), (0.5, 0.5, 0.5))\n",
    "])\n",
    "trainset = torchvision.datasets.CIFAR10(root='../data', train=True,\n",
    "                                            download=True, transform=preproc_transform)\n",
    "trainloader = torch.utils.data.DataLoader(trainset, batch_size=16,\n",
    "                                            shuffle=True, num_workers=2)"
   ]
  },
  {
   "cell_type": "code",
   "execution_count": null,
   "metadata": {},
   "outputs": [
    {
     "data": {
      "application/vnd.jupyter.widget-view+json": {
       "model_id": "de8265809d524484995fe8ae806d05a6",
       "version_major": 2,
       "version_minor": 0
      },
      "text/plain": [
       "  0%|          | 0/3125 [00:00<?, ?it/s]"
      ]
     },
     "metadata": {},
     "output_type": "display_data"
    }
   ],
   "source": [
    "convs = [(4,2,1)]*5\n",
    "model = VAE(3, 64, 512, convolutions=convs, conv_activation=nn.SiLU, out_activation=nn.ReLU)\n",
    "\n",
    "criterion = nn.L1Loss()\n",
    "optimizer = torch.optim.Adam(model.parameters())\n",
    "epochs = 1\n",
    "pbar = tqdm(total=epochs * len(trainloader))\n",
    "losses = []\n",
    "kl_coeff = 0.1\n",
    "\n",
    "for e in range(epochs):\n",
    "    for i, (inputs, _) in enumerate(trainloader, 0):\n",
    "        pbar.update(1)\n",
    "        out, kl_loss = model(inputs)\n",
    "        \n",
    "        recon_loss = criterion(out, inputs)\n",
    "        #loss = (kl_loss* kl_coeff) + recon_loss\n",
    "        loss = recon_loss\n",
    "        optimizer.zero_grad()\n",
    "        loss.backward()\n",
    "        optimizer.step()\n",
    "        \n",
    "        losses.append(loss.item())\n",
    "        pbar.set_description(desc=f\"Epoch {e+1}/{epochs} | average loss: {(sum(losses[-100:])/min(100,len(losses))):.2f}\")\n"
   ]
  },
  {
   "cell_type": "code",
   "execution_count": 254,
   "metadata": {},
   "outputs": [
    {
     "data": {
      "image/png": "[encoded data removed]",
      "text/plain": [
       "<Figure size 640x480 with 1 Axes>"
      ]
     },
     "metadata": {},
     "output_type": "display_data"
    },
    {
     "data": {
      "image/png": "[encoded data removed]",
      "text/plain": [
       "<Figure size 640x480 with 1 Axes>"
      ]
     },
     "metadata": {},
     "output_type": "display_data"
    }
   ],
   "source": [
    "model.train(False)\n",
    "def imshow(img, un=True):\n",
    "    if un:\n",
    "        img = img / 2 + 0.5   # unnormalize\n",
    "    npimg = img.numpy()   # convert from tensor\n",
    "    plt.imshow(np.transpose(npimg, (1, 2, 0))) \n",
    "    plt.show()\n",
    "\n",
    "\n",
    "image = next(iter(trainloader))[0][0]\n",
    "imshow(image)\n",
    "out, kl_loss = model(image[None,...])\n",
    "imshow(out[0].squeeze().detach())"
   ]
  },
  {
   "cell_type": "code",
   "execution_count": 247,
   "metadata": {},
   "outputs": [
    {
     "data": {
      "text/plain": [
       "tensor([ 1.5528, -0.4996, -0.8083,  0.5439,  1.0995,  0.1787],\n",
       "       grad_fn=<SliceBackward0>)"
      ]
     },
     "execution_count": 247,
     "metadata": {},
     "output_type": "execute_result"
    }
   ],
   "source": [
    "model.train(False)\n",
    "model.encoder(image[None,...]).squeeze()[:6]"
   ]
  }
 ],
 "metadata": {
  "kernelspec": {
   "display_name": "Python 3 (ipykernel)",
   "language": "python",
   "name": "python3"
  },
  "language_info": {
   "codemirror_mode": {
    "name": "ipython",
    "version": 3
   },
   "file_extension": ".py",
   "mimetype": "text/x-python",
   "name": "python",
   "nbconvert_exporter": "python",
   "pygments_lexer": "ipython3",
   "version": "3.10.0"
  }
 },
 "nbformat": 4,
 "nbformat_minor": 4
}
