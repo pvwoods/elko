{
 "cells": [
  {
   "cell_type": "code",
   "execution_count": 1,
   "metadata": {},
   "outputs": [
    {
     "name": "stderr",
     "output_type": "stream",
     "text": [
      "/home/philip/.local/lib/python3.10/site-packages/torchvision/io/image.py:13: UserWarning: Failed to load image Python extension: libtorch_cuda_cu.so: cannot open shared object file: No such file or directory\n",
      "  warn(f\"Failed to load image Python extension: {e}\")\n"
     ]
    }
   ],
   "source": [
    "import torch\n",
    "import torch.nn as nn\n",
    "import matplotlib.pyplot as plt\n",
    "import torchvision\n",
    "import torchvision.transforms as transforms\n",
    "from tqdm.auto import tqdm\n",
    "import numpy as np\n",
    "\n",
    "from typing import Union, List, Tuple"
   ]
  },
  {
   "cell_type": "code",
   "execution_count": 2,
   "metadata": {},
   "outputs": [
    {
     "name": "stdout",
     "output_type": "stream",
     "text": [
      "Downloading https://www.cs.toronto.edu/~kriz/cifar-10-python.tar.gz to ../data/cifar-10-python.tar.gz\n"
     ]
    },
    {
     "data": {
      "application/vnd.jupyter.widget-view+json": {
       "model_id": "e9fdc53983b54568836e7d9eda03b511",
       "version_major": 2,
       "version_minor": 0
      },
      "text/plain": [
       "  0%|          | 0/170498071 [00:00<?, ?it/s]"
      ]
     },
     "metadata": {},
     "output_type": "display_data"
    },
    {
     "name": "stdout",
     "output_type": "stream",
     "text": [
      "Extracting ../data/cifar-10-python.tar.gz to ../data\n"
     ]
    }
   ],
   "source": [
    "transform = transforms.Compose(\n",
    "        [transforms.ToTensor(), ])\n",
    "trainset = torchvision.datasets.CIFAR10(root='../data', train=True,\n",
    "                                            download=True, transform=transform)\n",
    "trainloader = torch.utils.data.DataLoader(trainset, batch_size=16,\n",
    "                                            shuffle=True, num_workers=2)"
   ]
  },
  {
   "cell_type": "code",
   "execution_count": 3,
   "metadata": {},
   "outputs": [
    {
     "data": {
      "text/plain": [
       "AutoEncoder(\n",
       "  (encoder): Sequential(\n",
       "    (0): Conv2d(3, 10, kernel_size=(4, 4), stride=(2, 2), padding=(1, 1))\n",
       "    (1): BatchNorm2d(10, eps=1e-05, momentum=0.1, affine=True, track_running_stats=True)\n",
       "    (2): SiLU()\n",
       "    (3): Conv2d(10, 20, kernel_size=(4, 4), stride=(2, 2), padding=(1, 1))\n",
       "    (4): BatchNorm2d(20, eps=1e-05, momentum=0.1, affine=True, track_running_stats=True)\n",
       "    (5): SiLU()\n",
       "    (6): Conv2d(20, 40, kernel_size=(4, 4), stride=(2, 2), padding=(1, 1))\n",
       "    (7): BatchNorm2d(40, eps=1e-05, momentum=0.1, affine=True, track_running_stats=True)\n",
       "    (8): SiLU()\n",
       "    (9): Conv2d(40, 80, kernel_size=(4, 4), stride=(2, 2), padding=(1, 1))\n",
       "    (10): BatchNorm2d(80, eps=1e-05, momentum=0.1, affine=True, track_running_stats=True)\n",
       "  )\n",
       "  (decoder): Sequential(\n",
       "    (0): ConvTranspose2d(80, 40, kernel_size=(4, 4), stride=(2, 2), padding=(1, 1))\n",
       "    (1): BatchNorm2d(40, eps=1e-05, momentum=0.1, affine=True, track_running_stats=True)\n",
       "    (2): SiLU()\n",
       "    (3): ConvTranspose2d(40, 20, kernel_size=(4, 4), stride=(2, 2), padding=(1, 1))\n",
       "    (4): BatchNorm2d(20, eps=1e-05, momentum=0.1, affine=True, track_running_stats=True)\n",
       "    (5): SiLU()\n",
       "    (6): ConvTranspose2d(20, 10, kernel_size=(4, 4), stride=(2, 2), padding=(1, 1))\n",
       "    (7): BatchNorm2d(10, eps=1e-05, momentum=0.1, affine=True, track_running_stats=True)\n",
       "    (8): SiLU()\n",
       "    (9): ConvTranspose2d(10, 3, kernel_size=(4, 4), stride=(2, 2), padding=(1, 1))\n",
       "    (10): BatchNorm2d(3, eps=1e-05, momentum=0.1, affine=True, track_running_stats=True)\n",
       "  )\n",
       "  (out_activation): Sigmoid()\n",
       ")"
      ]
     },
     "execution_count": 3,
     "metadata": {},
     "output_type": "execute_result"
    }
   ],
   "source": [
    "class AutoEncoder(nn.Module):\n",
    "    \n",
    "    def __init__(self, \n",
    "                 channels:List[int], \n",
    "                 kernel:int=4, \n",
    "                 stride:int=2, \n",
    "                 padding:int=1, \n",
    "                 conv_activation=None, \n",
    "                 out_activation=None\n",
    "                ):\n",
    "        \n",
    "        super(AutoEncoder, self).__init__()\n",
    "        \n",
    "        self.kernel = kernel\n",
    "        self.stride = stride\n",
    "        self.padding = padding\n",
    "        self.conv_activation = nn.SiLU if conv_activation is None else conv_activation\n",
    "        \n",
    "        self.encoder = self.build_coder(channels, nn.Conv2d)\n",
    "        self.decoder = self.build_coder(channels[::-1], nn.ConvTranspose2d)\n",
    "        self.out_activation = out_activation()\n",
    "        \n",
    "    def build_coder(self, channels, conv_layer):\n",
    "        channel_pairs = zip(channels[:-1], channels[1:])\n",
    "        coder_steps = [(\n",
    "            conv_layer(i, o, self.kernel, self.stride, self.padding),\n",
    "            nn.BatchNorm2d(o),\n",
    "            self.conv_activation())\n",
    "            for i, o in channel_pairs]\n",
    "        coder_steps = [step for substep in coder_steps for step in substep][:-1] # flatten and remove last activation\n",
    "        return nn.Sequential(*coder_steps)\n",
    "        \n",
    "    \n",
    "    def forward(self, x):\n",
    "        h = self.encoder(x)\n",
    "        out = self.decoder(h)\n",
    "        if self.out_activation:\n",
    "            out = self.out_activation(out)\n",
    "        return out, h\n",
    "    \n",
    "m = AutoEncoder([3, 10, 20, 40, 80], out_activation=nn.Sigmoid)\n",
    "x = torch.randn(1,3,256,256)\n",
    "m"
   ]
  },
  {
   "cell_type": "code",
   "execution_count": 10,
   "metadata": {},
   "outputs": [
    {
     "data": {
      "application/vnd.jupyter.widget-view+json": {
       "model_id": "92e46341093844f8906a0f32d85f7a8b",
       "version_major": 2,
       "version_minor": 0
      },
      "text/plain": [
       "  0%|          | 0/3125 [00:00<?, ?it/s]"
      ]
     },
     "metadata": {},
     "output_type": "display_data"
    }
   ],
   "source": [
    "model = AutoEncoder([3, 6, 8], out_activation=nn.Sigmoid)\n",
    "device = \"cuda:1\"\n",
    "model.to(device)\n",
    "\n",
    "criterion = nn.L1Loss()\n",
    "optimizer = torch.optim.Adam(model.parameters())\n",
    "epochs = 1\n",
    "pbar = tqdm(total=epochs * len(trainloader))\n",
    "losses = []\n",
    "\n",
    "for e in range(epochs):\n",
    "    for i, (inputs, _) in enumerate(trainloader, 0):\n",
    "        pbar.update(1)\n",
    "        inputs = inputs.to(device)\n",
    "        out, encoded = model(inputs)\n",
    "        \n",
    "        loss = criterion(out, inputs)\n",
    "        optimizer.zero_grad()\n",
    "        loss.backward()\n",
    "        optimizer.step()\n",
    "        \n",
    "        losses.append(loss.item())\n",
    "        pbar.set_description(desc=f\"Epoch {e+1}/{epochs} | average loss: {(sum(losses[-100:])/min(100,len(losses))):.2f}\")\n"
   ]
  },
  {
   "cell_type": "code",
   "execution_count": 11,
   "metadata": {},
   "outputs": [
    {
     "data": {
      "text/plain": [
       "[<matplotlib.lines.Line2D at 0x7f0024dd13c0>]"
      ]
     },
     "execution_count": 11,
     "metadata": {},
     "output_type": "execute_result"
    },
    {
     "data": {
      "image/png": "[encoded data removed]",
      "text/plain": [
       "<Figure size 432x288 with 1 Axes>"
      ]
     },
     "metadata": {
      "needs_background": "light"
     },
     "output_type": "display_data"
    }
   ],
   "source": [
    "plt.plot(torch.tensor(losses).view(-1, 25).mean(1))"
   ]
  },
  {
   "cell_type": "code",
   "execution_count": 6,
   "metadata": {},
   "outputs": [
    {
     "data": {
      "text/plain": [
       "torch.Size([3, 32, 32])"
      ]
     },
     "execution_count": 6,
     "metadata": {},
     "output_type": "execute_result"
    }
   ],
   "source": [
    "batch = next(iter(trainloader))\n",
    "image = batch[0][0]\n",
    "image.shape"
   ]
  },
  {
   "cell_type": "code",
   "execution_count": 8,
   "metadata": {},
   "outputs": [
    {
     "data": {
      "image/png": "[encoded data removed]",
      "text/plain": [
       "<Figure size 432x288 with 1 Axes>"
      ]
     },
     "metadata": {
      "needs_background": "light"
     },
     "output_type": "display_data"
    }
   ],
   "source": [
    "def imshow(img):\n",
    "  #img = img / 2 + 0.5   # unnormalize\n",
    "  npimg = img.numpy()   # convert from tensor\n",
    "  plt.imshow(np.transpose(npimg, (1, 2, 0))) \n",
    "  plt.show()\n",
    "    \n",
    "imshow(image)"
   ]
  },
  {
   "cell_type": "code",
   "execution_count": 9,
   "metadata": {},
   "outputs": [
    {
     "data": {
      "image/png": "[encoded data removed]",
      "text/plain": [
       "<Figure size 432x288 with 1 Axes>"
      ]
     },
     "metadata": {
      "needs_background": "light"
     },
     "output_type": "display_data"
    }
   ],
   "source": [
    "out, h = model(image[None,...])\n",
    "imshow(out[0].squeeze().detach())"
   ]
  },
  {
   "cell_type": "code",
   "execution_count": 12,
   "metadata": {},
   "outputs": [
    {
     "data": {
      "text/plain": [
       "(512, 3072, 0.8333333333333334)"
      ]
     },
     "execution_count": 12,
     "metadata": {},
     "output_type": "execute_result"
    }
   ],
   "source": [
    "hidden_size = h.shape[1]*h.shape[2]*h.shape[3]\n",
    "full_size = image.shape[0]*image.shape[1]*image.shape[2]\n",
    "hidden_size, full_size, 1 - hidden_size / full_size"
   ]
  },
  {
   "cell_type": "code",
   "execution_count": 261,
   "metadata": {},
   "outputs": [
    {
     "data": {
      "text/plain": [
       "(torch.Size([1, 3, 100, 100]), tensor(6.6694, grad_fn=<MeanBackward0>))"
      ]
     },
     "execution_count": 261,
     "metadata": {},
     "output_type": "execute_result"
    }
   ],
   "source": [
    "class VAE(nn.Module):\n",
    "    \n",
    "    def __init__(self,\n",
    "                 input_dims:int,\n",
    "                 hidden_dims:int,\n",
    "                 bottleneck_dims:int,\n",
    "                 convolutions:List[Tuple[int,int,int]]=None, \n",
    "                 conv_activation=None, \n",
    "                 out_activation=None\n",
    "                ):\n",
    "        \n",
    "        '''\n",
    "        Variational Auto Encoder\n",
    "        \n",
    "        Attributes\n",
    "        ----------\n",
    "        \n",
    "        input_dims : int \n",
    "            number of input channel dimensions\n",
    "        hidden_dims : int\n",
    "            number of channel dimensions for hidden layers\n",
    "        bottleneck_dims : int\n",
    "            channel dimensions at bottelneck\n",
    "        convolutions : List[Tuple[int,int,int]] (optional)\n",
    "            list of tuples for convolution layers, of the form (kernel size, stride, padding)\n",
    "        conv_activation (optional)\n",
    "            class of the activation to be used for actvations between convolutional layers.  Defaults to SiLU\n",
    "        out_activation (optional)\n",
    "            class of the activation to be used after final step of the deocder.  If not set, no activation will be used.\n",
    "        '''\n",
    "        \n",
    "        super(VAE, self).__init__()\n",
    "\n",
    "        self.input_dims = input_dims\n",
    "        self.hidden_dims = hidden_dims\n",
    "        self.bottleneck_dims = bottleneck_dims\n",
    "\n",
    "        if convolutions is None:\n",
    "            convolutions = [\n",
    "                (4, 2, 1),\n",
    "                (4, 2, 1),\n",
    "                (5, 1, 0),\n",
    "                (3, 1, 0)\n",
    "            ]\n",
    "            \n",
    "        if conv_activation is None:\n",
    "            conv_activation = nn.SiLU\n",
    "        \n",
    "        # build encoder\n",
    "        \n",
    "        encoder_steps = []\n",
    "        for i, (k, s, p) in enumerate(convolutions):\n",
    "            in_dim = input_dims if i == 0 else hidden_dims\n",
    "            out_dim = (bottleneck_dims * 2) if i == len(convolutions) - 1 else hidden_dims\n",
    "            encoder_steps.append(nn.Conv2d(in_dim, out_dim, k, s, p))\n",
    "            encoder_steps.append(nn.BatchNorm2d(out_dim))\n",
    "            # no activation on last layer\n",
    "            if i != len(convolutions) - 1:\n",
    "                encoder_steps.append(conv_activation())\n",
    "        \n",
    "        self.encoder = nn.Sequential(*encoder_steps)\n",
    "        \n",
    "        # build decoder\n",
    "        \n",
    "        decoder_steps = []\n",
    "        for i, (k, s, p) in enumerate(convolutions[::-1]):\n",
    "            in_dim = (bottleneck_dims * 2) if i == 0 else hidden_dims\n",
    "            out_dim = input_dims if i == len(convolutions) - 1 else hidden_dims\n",
    "            decoder_steps.append(nn.ConvTranspose2d(in_dim, out_dim, k, s, p))\n",
    "            decoder_steps.append(nn.BatchNorm2d(out_dim))\n",
    "            # no activation on last layer\n",
    "            if i != len(convolutions) - 1:\n",
    "                decoder_steps.append(conv_activation())\n",
    "        \n",
    "        self.decoder = nn.Sequential(*decoder_steps)\n",
    "        \n",
    "        if out_activation:\n",
    "            self.out_activation = out_activation()\n",
    "            \n",
    "    def forward(self, x):\n",
    "        h = self.encoder(x)\n",
    "        mu, logvar = h.chunk(2, dim=1)\n",
    "        \n",
    "        h_dist = torch.distributions.Normal(mu, logvar.mul(.5).exp())\n",
    "        reference_dist = torch.distributions.Normal(torch.zeros_like(mu), torch.ones_like(logvar))\n",
    "        kl_loss = torch.distributions.kl_divergence(h_dist, reference_dist).sum(dim=1).mean()\n",
    "        \n",
    "        out = self.decoder(h)\n",
    "        if self.out_activation:\n",
    "            out = self.out_activation(out)\n",
    "        \n",
    "        return out, kl_loss\n",
    "            \n",
    "            \n",
    "model = VAE(3, 6, 8, out_activation=nn.Tanh)\n",
    "x = torch.randn(1, 3, 100, 100)\n",
    "out, kl_loss = model(x)\n",
    "out.shape, kl_loss"
   ]
  },
  {
   "cell_type": "code",
   "execution_count": 2,
   "metadata": {},
   "outputs": [
    {
     "name": "stdout",
     "output_type": "stream",
     "text": [
      "Files already downloaded and verified\n"
     ]
    }
   ],
   "source": [
    "preproc_transform = transforms.Compose([\n",
    "    transforms.ToTensor(),\n",
    "    transforms.Normalize((0.5, 0.5, 0.5), (0.5, 0.5, 0.5))\n",
    "])\n",
    "trainset = torchvision.datasets.CIFAR10(root='../data', train=True,\n",
    "                                            download=True, transform=preproc_transform)\n",
    "trainloader = torch.utils.data.DataLoader(trainset, batch_size=128,\n",
    "                                            shuffle=True, num_workers=2)"
   ]
  },
  {
   "cell_type": "code",
   "execution_count": 98,
   "metadata": {},
   "outputs": [
    {
     "data": {
      "application/vnd.jupyter.widget-view+json": {
       "model_id": "7f53f71dff704c7f97d7371924c69864",
       "version_major": 2,
       "version_minor": 0
      },
      "text/plain": [
       "  0%|          | 0/11730 [00:00<?, ?it/s]"
      ]
     },
     "metadata": {},
     "output_type": "display_data"
    }
   ],
   "source": [
    "model = VAE(3, 128, 256, conv_activation=nn.SiLU, out_activation=nn.ReLU)\n",
    "model.to(device)\n",
    "\n",
    "criterion = nn.L1Loss()\n",
    "optimizer = torch.optim.Adam(model.parameters())\n",
    "epochs = 30\n",
    "pbar = tqdm(total=epochs * len(trainloader))\n",
    "losses = []\n",
    "kl_coeff = 1\n",
    "\n",
    "for e in range(epochs):\n",
    "    for i, (inputs, _) in enumerate(trainloader, 0):\n",
    "        pbar.update(1)\n",
    "        inputs = inputs.to(device)\n",
    "        out, kl_loss = model(inputs)\n",
    "        \n",
    "        recon_loss = criterion(out, inputs)\n",
    "        loss = (kl_loss* kl_coeff) + recon_loss\n",
    "        loss = recon_loss\n",
    "        optimizer.zero_grad()\n",
    "        loss.backward()\n",
    "        optimizer.step()\n",
    "        \n",
    "        losses.append(loss.item())\n",
    "        pbar.set_description(desc=f\"Epoch {e+1}/{epochs} | average loss: {(sum(losses[-100:])/min(100,len(losses))):.2f}\")\n"
   ]
  },
  {
   "cell_type": "code",
   "execution_count": 96,
   "metadata": {},
   "outputs": [
    {
     "data": {
      "image/png": "[encoded data removed]",
      "text/plain": [
       "<Figure size 432x288 with 1 Axes>"
      ]
     },
     "metadata": {
      "needs_background": "light"
     },
     "output_type": "display_data"
    },
    {
     "data": {
      "image/png": "[encoded data removed]",
      "text/plain": [
       "<Figure size 432x288 with 1 Axes>"
      ]
     },
     "metadata": {
      "needs_background": "light"
     },
     "output_type": "display_data"
    }
   ],
   "source": [
    "model.train(False)\n",
    "def imshow(img, un=True):\n",
    "    if un:\n",
    "        img = img / 2 + 0.5   # unnormalize\n",
    "    npimg = img.numpy()   # convert from tensor\n",
    "    plt.imshow(np.transpose(npimg, (1, 2, 0))) \n",
    "    plt.show()\n",
    "\n",
    "\n",
    "image = next(iter(trainloader))[0][0].to(device)\n",
    "imshow(image.cpu())\n",
    "out, kl_loss = model(image[None,...])\n",
    "imshow(out[0].squeeze().cpu().detach())"
   ]
  },
  {
   "cell_type": "code",
   "execution_count": 97,
   "metadata": {},
   "outputs": [
    {
     "data": {
      "text/plain": [
       "(1024, 3072, 0.6666666666666667, 8684553)"
      ]
     },
     "execution_count": 97,
     "metadata": {},
     "output_type": "execute_result"
    }
   ],
   "source": [
    "model.train(False)\n",
    "encoder_size = model.encoder(image[None,...]).squeeze().shape[0]\n",
    "full_size = image.shape[0]*image.shape[1]*image.shape[2]\n",
    "encoder_size, full_size, 1 - encoder_size / full_size, sum([p.numel() for p in model.parameters()])"
   ]
  },
  {
   "cell_type": "code",
   "execution_count": 260,
   "metadata": {},
   "outputs": [
    {
     "data": {
      "text/plain": [
       "(tensor(0.7293, grad_fn=<MseLossBackward0>),\n",
       " tensor(0.7293, grad_fn=<MseLossBackward0>),\n",
       " tensor(0.7293, grad_fn=<MseLossBackward0>))"
      ]
     },
     "execution_count": 260,
     "metadata": {},
     "output_type": "execute_result"
    }
   ],
   "source": [
    "import torch.nn.functional as F\n",
    "\n",
    "class EmbeddingQuantizer(nn.Module):\n",
    "\n",
    "    def __init__(self, codebook_size:int, embedding_dims:int) -> None:\n",
    "        \n",
    "        super(EmbeddingQuantizer, self).__init__()\n",
    "\n",
    "        self.embedding_dims = embedding_dims\n",
    "        self.codebook_size = codebook_size\n",
    "\n",
    "        self.embeddings = nn.Embedding(self.codebook_size, self.embedding_dims)\n",
    "\n",
    "    def forward(self, x):\n",
    "\n",
    "        B, C, H, W = x.shape\n",
    "\n",
    "        reshape_inputs = x.permute(0, 2, 3, 1).contiguous() # embed by channel values for each pixel (BHWC)\n",
    "        reshape_inputs = reshape_inputs.view(-1, self.embedding_dims) # reshape to embedding dimensions (B, E)\n",
    "\n",
    "        # calculate distances between all inputs and embeddings\n",
    "        xs = (reshape_inputs**2).sum(dim=1, keepdim=True)\n",
    "        ys = (self.embeddings.weight**2).sum(dim=1)\n",
    "        dots = reshape_inputs @ self.embeddings.weight.t()\n",
    "        distances = (xs + ys) - (2 * dots)\n",
    "\n",
    "        # get embedding indices and quantize\n",
    "        embedding_indexes = torch.argmin(distances, dim=1).unsqueeze(1)\n",
    "        quantized_embeddings = self.embeddings(embedding_indexes).view(B, H, W, C).permute(0, 3, 1, 2).contiguous()\n",
    "\n",
    "        loss = F.mse_loss(x, quantized_embeddings)\n",
    "\n",
    "        return quantized_embeddings, embedding_indexes.squeeze(-1), loss\n",
    "\n",
    "l1 = nn.Linear(32, 32)\n",
    "eq = EmbeddingQuantizer(1024, 64)\n",
    "x = torch.randn((1,256,32,32))\n",
    "x1 = l1(x)\n",
    "embs, codes, loss = eq(x1)"
   ]
  },
  {
   "cell_type": "code",
   "execution_count": 264,
   "metadata": {},
   "outputs": [
    {
     "data": {
      "text/plain": [
       "(torch.Size([1, 3, 100, 100]),\n",
       " torch.Size([361]),\n",
       " tensor(6.8564, grad_fn=<AddBackward0>))"
      ]
     },
     "execution_count": 264,
     "metadata": {},
     "output_type": "execute_result"
    }
   ],
   "source": [
    "class VQVAE(VAE):\n",
    "    \n",
    "    def __init__(self,\n",
    "                 input_dims:int,\n",
    "                 hidden_dims:int,\n",
    "                 bottleneck_dims:int,\n",
    "                 codebook_size:int,\n",
    "                 convolutions:List[Tuple[int,int,int]]=None, \n",
    "                 conv_activation=None, \n",
    "                 out_activation=None\n",
    "                ):\n",
    "        \n",
    "        '''\n",
    "        Vector Quantized Variational Auto Encoder\n",
    "        \n",
    "        Attributes\n",
    "        ----------\n",
    "        \n",
    "        input_dims : int \n",
    "            number of input channel dimensions\n",
    "        hidden_dims : int\n",
    "            number of channel dimensions for hidden layers\n",
    "        bottleneck_dims : int\n",
    "            channel dimensions at bottelneck (also used as the embedding size for the codebook)\n",
    "        codebook_size : int\n",
    "            number of embeddings stored in the codebook\n",
    "        convolutions : List[Tuple[int,int,int]] (optional)\n",
    "            list of tuples for convolution layers, of the form (kernel size, stride, padding)\n",
    "        conv_activation (optional)\n",
    "            class of the activation to be used for actvations between convolutional layers.  Defaults to SiLU\n",
    "        out_activation (optional)\n",
    "            class of the activation to be used after final step of the deocder.  If not set, no activation will be used.\n",
    "        '''\n",
    "        \n",
    "        super(VQVAE, self).__init__(\n",
    "            input_dims, hidden_dims, bottleneck_dims,\n",
    "            convolutions, conv_activation, out_activation)\n",
    "\n",
    "        self.codebook_size = codebook_size\n",
    "        self.codebook_dims = self.bottleneck_dims * 2 # 1 scalar for mean, 1 for std\n",
    "\n",
    "        self.embedding_quantizer = EmbeddingQuantizer(self.codebook_size, self.codebook_dims)\n",
    "\n",
    "    def forward(self, x):\n",
    "\n",
    "        # run through encoder\n",
    "        h = self.encoder(x)\n",
    "\n",
    "        # now get quantized embeddings\n",
    "        qh, codes, q_loss = self.embedding_quantizer(h)\n",
    "\n",
    "        # chunk\n",
    "        mu, logvar = qh.chunk(2, dim=1)\n",
    "        \n",
    "        h_dist = torch.distributions.Normal(mu, logvar.mul(.5).exp())\n",
    "        reference_dist = torch.distributions.Normal(torch.zeros_like(mu), torch.ones_like(logvar))\n",
    "        kl_loss = torch.distributions.kl_divergence(h_dist, reference_dist).sum(dim=1).mean()\n",
    "        \n",
    "        out = self.decoder(h)\n",
    "        if self.out_activation:\n",
    "            out = self.out_activation(out)\n",
    "        \n",
    "        return out, codes, q_loss, kl_loss\n",
    "\n",
    "\n",
    "model = VQVAE(3, 6, 8, 10, out_activation=nn.Tanh)\n",
    "x = torch.randn(1, 3, 100, 100)\n",
    "out, codes, q_loss, kl_loss = model(x)\n",
    "out.shape, codes.shape, q_loss + kl_loss"
   ]
  },
  {
   "cell_type": "code",
   "execution_count": 279,
   "metadata": {},
   "outputs": [
    {
     "data": {
      "application/vnd.jupyter.widget-view+json": {
       "model_id": "13746e10e0694f56ab348cf7fa8ee0dc",
       "version_major": 2,
       "version_minor": 0
      },
      "text/plain": [
       "  0%|          | 0/11730 [00:00<?, ?it/s]"
      ]
     },
     "metadata": {},
     "output_type": "display_data"
    }
   ],
   "source": [
    "model = VQVAE(3, 128, 256, 4094, conv_activation=nn.SiLU, out_activation=nn.ReLU)\n",
    "model.to(device)\n",
    "\n",
    "criterion = nn.L1Loss()\n",
    "optimizer = torch.optim.Adam(model.parameters())\n",
    "epochs = 30\n",
    "pbar = tqdm(total=epochs * len(trainloader))\n",
    "losses = []\n",
    "\n",
    "for e in range(epochs):\n",
    "    for i, (inputs, _) in enumerate(trainloader, 0):\n",
    "        pbar.update(1)\n",
    "        inputs = inputs.to(device)\n",
    "        out, codes, q_loss, kl_loss = model(inputs)\n",
    "        \n",
    "        recon_loss = criterion(out, inputs)\n",
    "        loss = kl_loss + q_loss + recon_loss\n",
    "        loss = recon_loss\n",
    "        optimizer.zero_grad()\n",
    "        loss.backward()\n",
    "        optimizer.step()\n",
    "        \n",
    "        losses.append(loss.item())\n",
    "        pbar.set_description(desc=f\"Epoch {e+1}/{epochs} | average loss: {(sum(losses[-100:])/min(100,len(losses))):.2f}\")"
   ]
  },
  {
   "cell_type": "code",
   "execution_count": 280,
   "metadata": {},
   "outputs": [
    {
     "data": {
      "image/png": "[encoded data removed]",
      "text/plain": [
       "<Figure size 432x288 with 1 Axes>"
      ]
     },
     "metadata": {
      "needs_background": "light"
     },
     "output_type": "display_data"
    },
    {
     "data": {
      "image/png": "[encoded data removed]",
      "text/plain": [
       "<Figure size 432x288 with 1 Axes>"
      ]
     },
     "metadata": {
      "needs_background": "light"
     },
     "output_type": "display_data"
    }
   ],
   "source": [
    "model.train(False)\n",
    "def imshow(img, un=True):\n",
    "    if un:\n",
    "        img = img / 2 + 0.5   # unnormalize\n",
    "    npimg = img.numpy()   # convert from tensor\n",
    "    plt.imshow(np.transpose(npimg, (1, 2, 0))) \n",
    "    plt.show()\n",
    "\n",
    "\n",
    "image = next(iter(trainloader))[0][0].to(device)\n",
    "imshow(image.cpu())\n",
    "out, codes, q_loss, kl_loss = model(image[None,...])\n",
    "imshow(out[0].squeeze().cpu().detach(), False)"
   ]
  },
  {
   "cell_type": "code",
   "execution_count": 301,
   "metadata": {},
   "outputs": [
    {
     "name": "stdout",
     "output_type": "stream",
     "text": [
      "embedding size: 512\n",
      "original image size: 3072\n",
      "dimensional reduction: 83.33%\n",
      "model params: 4635401\n",
      "codebook bytes: 6.0\n"
     ]
    }
   ],
   "source": [
    "import math\n",
    "\n",
    "model.train(False)\n",
    "encoder_size = model.encoder(image[None,...]).squeeze().shape[0]\n",
    "full_size = image.shape[0]*image.shape[1]*image.shape[2]\n",
    "bits_per_code = math.ceil(math.log2(model.codebook_size))\n",
    "codebook_bit_size = codes.shape[0] * bits_per_code\n",
    "h = \"\\n\".join((\n",
    "    f\"embedding size: {encoder_size}\",\n",
    "    f\"original image size: {full_size}\",\n",
    "    f\"dimensional reduction: {(1 - encoder_size / full_size)*100:.2f}%\",\n",
    "    f\"model params: {sum([p.numel() for p in model.parameters()])}\",\n",
    "    f\"codebook bytes: {codebook_bit_size / 8}\",\n",
    "))\n",
    "print(h)"
   ]
  },
  {
   "cell_type": "code",
   "execution_count": 81,
   "metadata": {},
   "outputs": [
    {
     "name": "stdout",
     "output_type": "stream",
     "text": [
      "b torch.Size([1, 12, 32, 32]) torch.Size([1, 12, 32, 32])\n"
     ]
    },
    {
     "data": {
      "text/plain": [
       "torch.Size([1, 12, 32, 32])"
      ]
     },
     "execution_count": 81,
     "metadata": {},
     "output_type": "execute_result"
    }
   ],
   "source": [
    "import torch.nn.functional as F\n",
    "import math\n",
    "\n",
    "class ResnetBlock(nn.Module):\n",
    "\n",
    "    def __init__(self, in_channels:int, out_channels:int, stride:int = 1, residual_layer:bool=True, conv_layer=None, conv_activation=None, out_activation=None) -> None:\n",
    "        super(ResnetBlock, self).__init__()\n",
    "\n",
    "        assert 0 < stride <= 2\n",
    "\n",
    "        if conv_activation is None:\n",
    "            conv_activation = nn.ReLU\n",
    "\n",
    "        if conv_layer is None:\n",
    "            conv_layer = nn.Conv2d\n",
    "\n",
    "        self.in_channels = in_channels\n",
    "        self.out_channels = out_channels\n",
    "        self.stride = stride\n",
    "        self.residual_layer = residual_layer\n",
    "\n",
    "        self.sequence = nn.Sequential(\n",
    "            conv_layer(in_channels, out_channels, 3, stride=stride, padding=1),\n",
    "            nn.BatchNorm2d(out_channels),\n",
    "            conv_activation(),\n",
    "            conv_layer(out_channels, out_channels, 3, stride=stride, padding=1),\n",
    "            nn.BatchNorm2d(out_channels)\n",
    "        )\n",
    "\n",
    "        self.out_activation = nn.ReLU() if out_activation is None else out_activation()\n",
    "\n",
    "    def identity(self, x):\n",
    "        x = self.make_identity_matrix(x)\n",
    "        if self.stride == 2:\n",
    "            x = F.avg_pool2d(x, 2, 2)\n",
    "        return x\n",
    "    \n",
    "    def make_identity_matrix(self, x):\n",
    "\n",
    "        if self.in_channels == self.out_channels:\n",
    "            return x\n",
    "\n",
    "        # we need to add additional channels\n",
    "        B, C, H, W = x.shape\n",
    "        NC = self.out_channels - C\n",
    "        z = torch.zeros(B, NC, H, W, dtype=x.dtype, device=x.device)\n",
    "\n",
    "        return torch.cat([x, z], dim=1)\n",
    "\n",
    "    def forward(self, x):\n",
    "\n",
    "        out = self.sequence(x)\n",
    "        if self.residual_layer:\n",
    "            r = self.identity(x)\n",
    "            print(\"b\", r.shape, out.shape)\n",
    "            out = self.out_activation(out + r)\n",
    "\n",
    "        return out\n",
    "\n",
    "rnb = ResnetBlock(3, 12)\n",
    "x = torch.randn(1, 3, 32, 32)\n",
    "rnb(x).shape"
   ]
  }
 ],
 "metadata": {
  "kernelspec": {
   "display_name": "Python 3 (ipykernel)",
   "language": "python",
   "name": "python3"
  },
  "language_info": {
   "codemirror_mode": {
    "name": "ipython",
    "version": 3
   },
   "file_extension": ".py",
   "mimetype": "text/x-python",
   "name": "python",
   "nbconvert_exporter": "python",
   "pygments_lexer": "ipython3",
   "version": "3.10.4 (main, Jun 29 2022, 12:14:53) [GCC 11.2.0]"
  },
  "vscode": {
   "interpreter": {
    "hash": "e7370f93d1d0cde622a1f8e1c04877d8463912d04d973331ad4851f04de6915a"
   }
  }
 },
 "nbformat": 4,
 "nbformat_minor": 4
}
